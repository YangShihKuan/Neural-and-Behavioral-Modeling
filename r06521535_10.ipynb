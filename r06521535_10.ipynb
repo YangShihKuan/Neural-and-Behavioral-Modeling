{
 "cells": [
  {
   "cell_type": "markdown",
   "metadata": {},
   "source": [
    "# Neural & Behavioral Modeling - Week 10 (Exercises)\n",
    "by 楊士寬 (r06521535@ntu.edu.tw)"
   ]
  },
  {
   "cell_type": "code",
   "execution_count": 29,
   "metadata": {},
   "outputs": [],
   "source": [
    "%config IPCompleter.greedy=True \n",
    "%matplotlib inline\n",
    "from numpy import *\n",
    "from matplotlib.pyplot import *\n",
    "from IPython.display import *"
   ]
  },
  {
   "cell_type": "markdown",
   "metadata": {},
   "source": [
    "## 1 A Two-layered Linear Network as a Regression Model (7 points)\n",
    "Data fitting of the following network is poor. Please check if adding bias terms or chaging network hyperparameters (e.g., learning rate, amount of training, etc.) help. If not, please explain why the fitting is poor given that the network/regression model has sufficient degrees of freedom (i.e., network weights or regression coefficients) to overfit such a small data set."
   ]
  },
  {
   "cell_type": "code",
   "execution_count": 76,
   "metadata": {},
   "outputs": [
    {
     "name": "stdout",
     "output_type": "stream",
     "text": [
      "[1.8220716846152236, 0.015027494258697894, 4.899135889759427e-05]\n",
      "Ideal results:\n",
      "[[0 1]\n",
      " [0 1]\n",
      " [0 1]]\n",
      "Reality:\n",
      "[[ 0.     1.   ]\n",
      " [-0.005  0.995]\n",
      " [ 0.     1.   ]]\n"
     ]
    },
    {
     "data": {
      "image/png": "[encoded data removed]",
      "text/plain": [
       "<matplotlib.figure.Figure at 0x7f20bcf3a7f0>"
      ]
     },
     "metadata": {},
     "output_type": "display_data"
    }
   ],
   "source": [
    "# Here we train a two-layered network of units \n",
    "# with a linear activation function f(x)=x\n",
    "# to associate patterns using the delta rule dW=(t-y)*x\n",
    "\n",
    "set_printoptions(precision=3,suppress=True)\n",
    "\n",
    "#X=array([[1,0,0,0],[0,1,0,0],[1,1,0,0],[0,0,1,0],[0,0,0,1],[0,0,1,1]])\n",
    "#X=array([[1,0,0,0,-1],[0,1,0,0,-1],[1,1,0,0,-1]])\n",
    "X=array([[0,0,1,0,-1],[0,0,0,1,-1],[0,0,1,1,-1]])\n",
    "#Y=array([[1,0],[1,0],[1,0],[0,1],[0,1],[0,1]])\n",
    "#Y=array([[1,0],[1,0],[1,0]])\n",
    "Y=array([[0,1],[0,1],[0,1]])\n",
    "[Np,Nx]=X.shape; # find numbers of patterns and input dimensions\n",
    "[Np,Ny]=Y.shape; # find numbers of patterns and output dimensions\n",
    "W=random.rand(Ny,Nx); # set initially random connectivity matrix\n",
    "\n",
    "eta=.5; # set the learning rate \n",
    "tol=1e-2; # set the tolerance/stopping criterion; try 0.01\n",
    "nIts=50001; # set the maximum number of allowed iterations\n",
    "totErr=10; # set the maximum training error to an initially high value\n",
    "totErr_hist=[] # history of totall error\n",
    "\n",
    "    \n",
    "for c in range(nIts): # for each learning iteration\n",
    "    p=mod(c,Np) # sequential presentation of the training samples\n",
    "    #p=random.randint(nP); # choose a traing pattern at random\n",
    "    \n",
    "    # Forward propagation:\n",
    "    y=W.dot(X[p])\n",
    "    \n",
    "    # Backward propagation:\n",
    "    deltaW=eta*outer(Y[p].T-y,X[p]) # delta learning\n",
    "    W=W+deltaW;  # apply the weight update\n",
    "    \n",
    "    # Checking if done:\n",
    "    if(mod(c,10*Np)==0): # after 10 updates check total errors\n",
    "        predY=W.dot(X.T) # testing ALL the training samples\n",
    "        totErr=sum((Y.T-predY)**2) # sum of squared errors for all samples\n",
    "        totErr_hist.append(totErr)\n",
    "    if(totErr<tol):\n",
    "        break # break if max error is below tolerance\n",
    "        \n",
    "plot(totErr_hist);\n",
    "title(str(c)+':'+str(totErr));\n",
    "\n",
    "print (totErr_hist)\n",
    "print('Ideal results:')\n",
    "print(Y)\n",
    "print('Reality:')\n",
    "print(predY.T) # predicted Y"
   ]
  },
  {
   "cell_type": "markdown",
   "metadata": {},
   "source": [
    "# Answer:\n",
    "\n",
    "我試過所有參數後發現效果不大，但在加上bias後，如果只用[1,0,0,0,-1],[0,1,0,0,-1],[1,1,0,0,-1]或[0,0,1,0,-1],[0,0,0,1,-1],[0,0,1,1,-1]發現可以訓練得出來，但全部[[1,0,0,0],[0,1,0,0],[1,1,0,0],[0,0,1,0],[0,0,0,1],[0,0,1,1]卻不行，我想可能有老師之前說的，因為一開始就是使用監督式學習可能造成學習的互相干擾，不能找到local的，所以我想是否可以再前面加上非監督式再做整體的訓練，讓模型可以知道對那些比較敏感，不過知道錯在哪裡沒有做出來。"
   ]
  },
  {
   "cell_type": "code",
   "execution_count": null,
   "metadata": {
    "collapsed": true
   },
   "outputs": [],
   "source": [
    "# Here we train a two-layered network of units \n",
    "# with a linear activation function f(x)=x\n",
    "# to associate patterns using the delta rule dW=(t-y)*x\n",
    "\n",
    "set_printoptions(precision=3,suppress=True)\n",
    "\n",
    "#X=array([[1,0,0,0],[0,1,0,0],[1,1,0,0],[0,0,1,0],[0,0,0,1],[0,0,1,1]])\n",
    "#X=array([[1,0,0,0,-1],[0,1,0,0,-1],[1,1,0,0,-1]])\n",
    "X=array([[0,0,1,0,-1],[0,0,0,1,-1],[0,0,1,1,-1]])\n",
    "#Y=array([[1,0],[1,0],[1,0],[0,1],[0,1],[0,1]])\n",
    "#Y=array([[1,0],[1,0],[1,0]])\n",
    "Y=array([[0,1],[0,1],[0,1]])\n",
    "[Np,Nx]=X.shape; # find numbers of patterns and input dimensions\n",
    "[Np,Ny]=Y.shape; # find numbers of patterns and output dimensions\n",
    "W=random.rand(Ny,Nx); # set initially random connectivity matrix\n",
    "\n",
    "eta=.5; # set the learning rate \n",
    "tol=1e-2; # set the tolerance/stopping criterion; try 0.01\n",
    "nIts=50001; # set the maximum number of allowed iterations\n",
    "totErr=10; # set the maximum training error to an initially high value\n",
    "totErr_hist=[] # history of totall error\n",
    "\n",
    "x=array([0,1,0]);\n",
    "W2=random.rand(Ny,Nx)\n",
    "\n",
    "for i in range(10): # trials\n",
    "    p=mod(i,Np)\n",
    "\n",
    "    y=dot(W1,x[p]) # Bottom-up F1→F2\n",
    "    y = matrix(y)\n",
    "    W1+=(x[p]-W1).T*y.T # Postsynaptically gated InStar\n",
    "    W2+=(x[p]-W2).T*y.T # Presynaptically gated OutStar\n",
    "    x2=dot(W2[p],y.T)\n",
    "    \n",
    "for c in range(nIts): # for each learning iteration\n",
    "    p=mod(c,Np) # sequential presentation of the training samples\n",
    "    #p=random.randint(nP); # choose a traing pattern at random\n",
    "    \n",
    "    # Forward propagation:\n",
    "    y=W.dot(X[p])\n",
    "    \n",
    "    # Backward propagation:\n",
    "    deltaW=eta*outer(Y[p].T-y,X[p]) # delta learning\n",
    "    W=W+deltaW;  # apply the weight update\n",
    "    \n",
    "    # Checking if done:\n",
    "    if(mod(c,10*Np)==0): # after 10 updates check total errors\n",
    "        predY=W.dot(X.T) # testing ALL the training samples\n",
    "        totErr=sum((Y.T-predY)**2) # sum of squared errors for all samples\n",
    "        totErr_hist.append(totErr)\n",
    "    if(totErr<tol):\n",
    "        break # break if max error is below tolerance\n",
    "        \n",
    "plot(totErr_hist);\n",
    "title(str(c)+':'+str(totErr));\n",
    "\n",
    "print (totErr_hist)\n",
    "print('Ideal results:')\n",
    "print(Y)\n",
    "print('Reality:')\n",
    "print(predY.T) # predicted Y"
   ]
  },
  {
   "cell_type": "markdown",
   "metadata": {},
   "source": [
    "###  Write your discussions here, if any"
   ]
  },
  {
   "cell_type": "markdown",
   "metadata": {},
   "source": [
    "## 2 PyTorch (3 points)\n",
    "Read <a href=\"http://noahsnail.com/2017/09/18/2017-9-18-PyTorch%E5%9F%BA%E6%9C%AC%E7%94%A8%E6%B3%95(%E4%B8%80)%E2%80%94%E2%80%94Numpy%EF%BC%8CTorch%E5%AF%B9%E6%AF%94/\">this tutorial</a> first and port the following Instar Learning from NumPy to PyTorch:"
   ]
  },
  {
   "cell_type": "code",
   "execution_count": 52,
   "metadata": {},
   "outputs": [
    {
     "name": "stdout",
     "output_type": "stream",
     "text": [
      "[0.342 0.995 0.976] 0.8207800879137734\n",
      "[0.143 0.424 0.585] 0.43437316596785247\n",
      "[0.125 0.37  0.548] 0.3977237267436653\n",
      "[0.115 0.342 0.529] 0.37874286828907844\n",
      "[0.109 0.326 0.518] 0.3678567119104177\n",
      "[0.106 0.317 0.511] 0.36128800058151983\n",
      "[0.104 0.311 0.507] 0.35720978142085946\n",
      "[0.102 0.307 0.505] 0.3546343769754221\n",
      "[0.102 0.304 0.503] 0.35299086758407405\n",
      "[0.101 0.303 0.502] 0.3519351186407426\n"
     ]
    }
   ],
   "source": [
    "# Instar learning:\n",
    "x=array([0.1,0.3,0.5])\n",
    "W=random.rand(3)\n",
    "for i in range(10): # trials \n",
    "    y=dot(W,x) \n",
    "    print(W,y)\n",
    "    W+=y*(x-W) # Postsynaptically gated InStar \n"
   ]
  },
  {
   "cell_type": "code",
   "execution_count": 66,
   "metadata": {},
   "outputs": [
    {
     "name": "stdout",
     "output_type": "stream",
     "text": [
      "\n",
      " 0.3461\n",
      " 0.3038\n",
      " 0.0427\n",
      "[torch.DoubleTensor of size 3]\n",
      " 0.14709537958794022\n",
      "\n",
      " 0.3099\n",
      " 0.3033\n",
      " 0.1099\n",
      "[torch.DoubleTensor of size 3]\n",
      " 0.1769417117475991\n",
      "\n",
      " 0.2728\n",
      " 0.3027\n",
      " 0.1790\n",
      "[torch.DoubleTensor of size 3]\n",
      " 0.2075629415030883\n",
      "\n",
      " 0.2369\n",
      " 0.3021\n",
      " 0.2456\n",
      "[torch.DoubleTensor of size 3]\n",
      " 0.23712759634375474\n",
      "\n",
      " 0.2045\n",
      " 0.3016\n",
      " 0.3059\n",
      "[torch.DoubleTensor of size 3]\n",
      " 0.2638927581163022\n",
      "\n",
      " 0.1769\n",
      " 0.3012\n",
      " 0.3571\n",
      "[torch.DoubleTensor of size 3]\n",
      " 0.2866158356707788\n",
      "\n",
      " 0.1549\n",
      " 0.3009\n",
      " 0.3981\n",
      "[torch.DoubleTensor of size 3]\n",
      " 0.3047827408982925\n",
      "\n",
      " 0.1381\n",
      " 0.3006\n",
      " 0.4291\n",
      "[torch.DoubleTensor of size 3]\n",
      " 0.31856418106321915\n",
      "\n",
      " 0.1260\n",
      " 0.3004\n",
      " 0.4517\n",
      "[torch.DoubleTensor of size 3]\n",
      " 0.32857850697886637\n",
      "\n",
      " 0.1174\n",
      " 0.3003\n",
      " 0.4676\n",
      "[torch.DoubleTensor of size 3]\n",
      " 0.33561714917300867\n"
     ]
    }
   ],
   "source": [
    "### Write your PyTorch codes here\n",
    "import torch as t\n",
    "x=array([0.1,0.3,0.5])\n",
    "W=random.rand(3)\n",
    "torch_x = t.from_numpy(x)\n",
    "torch_W = t.from_numpy(W)\n",
    "\n",
    "for i in range(10): # trials \n",
    "    y=t.matmul(torch_W,torch_x) \n",
    "    print(torch_W,y)\n",
    "    torch_W += y*(torch_x-torch_W)# Postsynaptically gated InStar "
   ]
  },
  {
   "cell_type": "code",
   "execution_count": null,
   "metadata": {},
   "outputs": [],
   "source": []
  }
 ],
 "metadata": {
  "kernelspec": {
   "display_name": "Python 3",
   "language": "python",
   "name": "python3"
  },
  "language_info": {
   "codemirror_mode": {
    "name": "ipython",
    "version": 3
   },
   "file_extension": ".py",
   "mimetype": "text/x-python",
   "name": "python",
   "nbconvert_exporter": "python",
   "pygments_lexer": "ipython3",
   "version": "3.5.4"
  }
 },
 "nbformat": 4,
 "nbformat_minor": 2
}
